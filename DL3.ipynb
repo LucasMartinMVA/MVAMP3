{
 "cells": [
  {
   "cell_type": "markdown",
   "metadata": {},
   "source": [
    "**You may need to install [OpenCV](https://pypi.python.org/pypi/opencv-python) and [scikit-video](http://www.scikit-video.org/stable/).**"
   ]
  },
  {
   "cell_type": "code",
   "execution_count": 74,
   "metadata": {},
   "outputs": [],
   "source": [
    "import keras\n",
    "import numpy as np\n",
    "import io\n",
    "import base64\n",
    "from IPython.display import HTML\n",
    "import skvideo.io\n",
    "import cv2\n",
    "import json\n",
    "\n",
    "from keras.models import Sequential,model_from_json\n",
    "from keras.layers.core import Dense\n",
    "from keras.optimizers import sgd\n",
    "from keras.layers import Conv2D, MaxPooling2D, Activation, AveragePooling2D,Reshape,BatchNormalization,Flatten"
   ]
  },
  {
   "cell_type": "markdown",
   "metadata": {},
   "source": [
    "# MiniProject #3: Deep Reinforcement Learning"
   ]
  },
  {
   "cell_type": "markdown",
   "metadata": {},
   "source": [
    "__Notations__: $E_p$ is the expectation under probability $p$. Please justify each of your answer and widely comment your code."
   ]
  },
  {
   "cell_type": "markdown",
   "metadata": {},
   "source": [
    "# Context"
   ]
  },
  {
   "cell_type": "markdown",
   "metadata": {},
   "source": [
    "In a reinforcement learning algorithm, we modelize each step $t$ as an action $a_t$ obtained from a state $s_t$, i.e. $\\{(a_{t},s_{t})_{t\\leq T}\\}$ having the Markov property. We consider a discount factor $\\gamma \\in [0,1]$ that ensures convergence. The goal is to find among all the policies $\\pi$, one that maximizes the expected reward:\n",
    "\n",
    "\\begin{equation*}\n",
    "R(\\pi)=\\sum_{t\\leq T}E_{p^{\\pi}}[\\gamma^t r(s_{t},a_{t})] \\> ,\n",
    "\\end{equation*}\n",
    "\n",
    "where: \n",
    "\\begin{equation*}p^{\\pi}(a_{0},a_{1},s_{1},...,a_{T},s_{T})=p(a_{0})\\prod_{t=1}^{T}\\pi(a_{t}|s_{t})p(s_{t+1}|s_{t},a_{t}) \\> .\n",
    "\\end{equation*}\n",
    "\n",
    "We note the $Q$-function:\n",
    "\n",
    "\\begin{equation*}Q^\\pi(s,a)=E_{p^{\\pi}}[\\sum_{t\\leq T}\\gamma^{t}r(s_{t},a_{t})|s_{0}=s,a_{0}=a] \\> .\n",
    "\\end{equation*}\n",
    "\n",
    "Thus, the optimal Q function is:\n",
    "\\begin{equation*}\n",
    "Q^*(s,a)=\\max_{\\pi}Q^\\pi(s,a) \\> .\n",
    "\\end{equation*}\n",
    "\n",
    "In this project, we will apply the deep reinforcement learning techniques to a simple game: an agent will have to learn from scratch a policy that will permit it maximizing a reward."
   ]
  },
  {
   "cell_type": "markdown",
   "metadata": {},
   "source": [
    "## The environment, the agent and the game"
   ]
  },
  {
   "cell_type": "markdown",
   "metadata": {},
   "source": [
    "### The environment"
   ]
  },
  {
   "cell_type": "markdown",
   "metadata": {},
   "source": [
    "```Environment``` is an abstract class that represents the states, rewards, and actions to obtain the new state."
   ]
  },
  {
   "cell_type": "code",
   "execution_count": 2,
   "metadata": {},
   "outputs": [],
   "source": [
    "class Environment(object):\n",
    "    def __init__(self):\n",
    "        pass\n",
    "\n",
    "    def act(self, act):\n",
    "        \"\"\"\n",
    "        One can act on the environment and obtain its reaction:\n",
    "        - the new state\n",
    "        - the reward of the new state\n",
    "        - should we continue the game?\n",
    "\n",
    "        :return: state, reward, game_over\n",
    "        \"\"\"\n",
    "        pass\n",
    "\n",
    "\n",
    "    def reset(self):\n",
    "        \"\"\"\n",
    "        Reinitialize the environment to a random state and returns\n",
    "        the original state\n",
    "\n",
    "        :return: state\n",
    "        \"\"\"\n",
    "        pass\n",
    "    \n",
    "    def draw(self):\n",
    "        \"\"\"\n",
    "        Visualize in the console or graphically the current state\n",
    "        \"\"\"\n",
    "        pass"
   ]
  },
  {
   "cell_type": "markdown",
   "metadata": {},
   "source": [
    "The method ```act``` allows to act on the environment at a given state $s_t$ (stored internally), via action $a_t$. The method will return the new state $s_{t+1}$, the reward $r(s_{t},a_{t})$ and determines if $t\\leq T$ (*game_over*).\n",
    "\n",
    "The method ```reset``` simply reinitializes the environment to a random state $s_0$.\n",
    "\n",
    "The method ```draw``` displays the current state $s_t$ (this is useful to check the behavior of the Agent).\n",
    "\n",
    "We modelize $s_t$ as a tensor, while $a_t$ is an integer."
   ]
  },
  {
   "cell_type": "markdown",
   "metadata": {},
   "source": [
    "### The Agent"
   ]
  },
  {
   "cell_type": "markdown",
   "metadata": {},
   "source": [
    "The goal of the ```Agent``` is to interact with the ```Environment``` by proposing actions $a_t$ obtained from a given state $s_t$ to attempt to maximize its __reward__ $r(s_t,a_t)$. We propose the following abstract class:"
   ]
  },
  {
   "cell_type": "code",
   "execution_count": 3,
   "metadata": {},
   "outputs": [],
   "source": [
    "class Agent(object):\n",
    "    def __init__(self, epsilon=0.1, n_action=4):\n",
    "        self.epsilon = epsilon\n",
    "        self.n_action = n_action\n",
    "    \n",
    "    def set_epsilon(self,e):\n",
    "        self.epsilon = e\n",
    "\n",
    "    def act(self,s,train=True):\n",
    "        \"\"\" This function should return the next action to do:\n",
    "        an integer between 0 and 4 (not included) with a random exploration of epsilon\"\"\"\n",
    "        if train:\n",
    "            if np.random.rand() <= self.epsilon:\n",
    "                a = np.random.randint(0, self.n_action, size=1)[0]\n",
    "            else:\n",
    "                a = self.learned_act(s)\n",
    "        else: # in some cases, this can improve the performance.. remove it if poor performances\n",
    "            a = self.learned_act(s)\n",
    "\n",
    "        return a\n",
    "\n",
    "    def learned_act(self,s):\n",
    "        \"\"\" Act via the policy of the agent, from a given state s\n",
    "        it proposes an action a\"\"\"\n",
    "        pass\n",
    "\n",
    "    def reinforce(self, s, n_s, a, r, game_over_):\n",
    "        \"\"\" This function is the core of the learning algorithm. \n",
    "        It takes as an input the current state s_, the next state n_s_\n",
    "        the action a_ used to move from s_ to n_s_ and the reward r_.\n",
    "        \n",
    "        Its goal is to learn a policy.\n",
    "        \"\"\"\n",
    "        pass\n",
    "\n",
    "    def save(self):\n",
    "        \"\"\" This function returns basic stats if applicable: the\n",
    "        loss and/or the model\"\"\"\n",
    "        pass\n",
    "\n",
    "    def load(self):\n",
    "        \"\"\" This function allows to restore a model\"\"\"\n",
    "        pass"
   ]
  },
  {
   "cell_type": "markdown",
   "metadata": {},
   "source": [
    "***\n",
    "__Question 1__:\n",
    "Explain the function act. Why is ```epsilon``` essential?"
   ]
  },
  {
   "cell_type": "markdown",
   "metadata": {},
   "source": [
    "The function act picks an action according to the policy of the agent with probability $1-\\epsilon$, or, with probability $\\epsilon$, chooses an action at random uniformly from all possible actions. Epsilon is the exploration parameter. It is essential because the agent needs to balance his exploration of the environment (to possibly discover better rewarding states) with his exploitation of the environment (If he only explores, the cumulative discounted reward will be poor)."
   ]
  },
  {
   "cell_type": "markdown",
   "metadata": {},
   "source": [
    "***\n",
    "### The Game"
   ]
  },
  {
   "cell_type": "markdown",
   "metadata": {},
   "source": [
    "The ```Agent``` and the ```Environment``` work in an interlaced way as in the following (take some time to understand this code as it is the core of the project)\n",
    "\n",
    "```python\n",
    "\n",
    "epoch = 300\n",
    "env = Environment()\n",
    "agent = Agent()\n",
    "\n",
    "\n",
    "# Number of won games\n",
    "score = 0\n",
    "loss = 0\n",
    "\n",
    "\n",
    "for e in range(epoch):\n",
    "    # At each epoch, we restart to a fresh game and get the initial state\n",
    "    state = env.reset()\n",
    "    # This assumes that the games will end\n",
    "    game_over = False\n",
    "\n",
    "    win = 0\n",
    "    lose = 0\n",
    "    \n",
    "    while not game_over:\n",
    "        # The agent performs an action\n",
    "        action = agent.act(state)\n",
    "\n",
    "        # Apply an action to the environment, get the next state, the reward\n",
    "        # and if the games end\n",
    "        prev_state = state\n",
    "        state, reward, game_over = env.act(action)\n",
    "\n",
    "        # Update the counters\n",
    "        if reward > 0:\n",
    "            win = win + reward\n",
    "        if reward < 0:\n",
    "            lose = lose -reward\n",
    "\n",
    "        # Apply the reinforcement strategy\n",
    "        loss = agent.reinforce(prev_state, state,  action, reward, game_over)\n",
    "\n",
    "    # Save as a mp4\n",
    "    if e % 10 == 0:\n",
    "        env.draw(e)\n",
    "\n",
    "    # Update stats\n",
    "    score += win-lose\n",
    "\n",
    "    print(\"Epoch {:03d}/{:03d} | Loss {:.4f} | Win/lose count {}/{} ({})\"\n",
    "          .format(e, epoch, loss, win, lose, win-lose))\n",
    "    agent.save()\n",
    "```"
   ]
  },
  {
   "cell_type": "markdown",
   "metadata": {},
   "source": [
    "# The game, *eat cheese*"
   ]
  },
  {
   "cell_type": "markdown",
   "metadata": {},
   "source": [
    "A rat runs on an island and tries to eat as much as possible. The island is subdivided into $N\\times N$ cells, in which there are cheese (+0.5) and poisonous cells (-1). The rat has a visibility of 2 cells (thus it can see $5^2$ cells). The rat is given a time $T$ to accumulate as much food as possible. It can perform 4 actions: going up, down, left, right. \n",
    "\n",
    "The goal is to code an agent to solve this task that will learn by trial and error. We propose the following environment:"
   ]
  },
  {
   "cell_type": "code",
   "execution_count": 149,
   "metadata": {},
   "outputs": [],
   "source": [
    "class Environment(object):\n",
    "    def __init__(self, grid_size=10, max_time=500, temperature=0.1):\n",
    "        grid_size = grid_size+4\n",
    "        self.grid_size = grid_size\n",
    "        self.max_time = max_time\n",
    "        self.temperature = temperature\n",
    "\n",
    "        #board on which one plays\n",
    "        self.board = np.zeros((grid_size,grid_size))\n",
    "        self.position = np.zeros((grid_size,grid_size))\n",
    "\n",
    "        # coordinate of the cat\n",
    "        self.x = 0\n",
    "        self.y = 1\n",
    "\n",
    "        # self time\n",
    "        self.t = 0\n",
    "\n",
    "        self.scale=16\n",
    "\n",
    "        self.to_draw = np.zeros((max_time+2, grid_size*self.scale, grid_size*self.scale, 3))\n",
    "\n",
    "\n",
    "    def draw(self,e):\n",
    "        skvideo.io.vwrite(str(e) + '.mp4', self.to_draw)\n",
    "        \n",
    "    def get_frame(self,t):\n",
    "        b = np.zeros((self.grid_size,self.grid_size,3))+128\n",
    "        b[self.board>0,0] = 256\n",
    "        b[self.board < 0, 2] = 256\n",
    "        b[self.x,self.y,:]=256\n",
    "        b[-2:,:,:]=0\n",
    "        b[:,-2:,:]=0\n",
    "        b[:2,:,:]=0\n",
    "        b[:,:2,:]=0\n",
    "        \n",
    "        b =  cv2.resize(b, None, fx=self.scale, fy=self.scale, interpolation=cv2.INTER_NEAREST)\n",
    "\n",
    "        self.to_draw[t,:,:,:]=b\n",
    "\n",
    "\n",
    "    def act(self, action):\n",
    "        \"\"\"This function returns the new state, reward and decides if the\n",
    "        game ends.\"\"\"\n",
    "\n",
    "        self.get_frame(int(self.t))\n",
    "\n",
    "        self.position = np.zeros((self.grid_size, self.grid_size))\n",
    "\n",
    "        self.position[0:2,:]= -1\n",
    "        self.position[:,0:2] = -1\n",
    "        self.position[-2:, :] = -1\n",
    "        self.position[-2:, :] = -1\n",
    "\n",
    "        self.position[self.x, self.y] = 1\n",
    "        if action == 0:\n",
    "            if self.x == self.grid_size-3:\n",
    "                self.x = self.x-1\n",
    "            else:\n",
    "                self.x = self.x + 1\n",
    "        elif action == 1:\n",
    "            if self.x == 2:\n",
    "                self.x = self.x+1\n",
    "            else:\n",
    "                self.x = self.x-1\n",
    "        elif action == 2:\n",
    "            if self.y == self.grid_size - 3:\n",
    "                self.y = self.y - 1\n",
    "            else:\n",
    "                self.y = self.y + 1\n",
    "        elif action == 3:\n",
    "            if self.y == 2:\n",
    "                self.y = self.y + 1\n",
    "            else:\n",
    "                self.y = self.y - 1\n",
    "        else:\n",
    "            RuntimeError('Error: action not recognized')\n",
    "\n",
    "        self.t = self.t + 1\n",
    "        reward = self.board[self.x, self.y]\n",
    "        self.board[self.x, self.y] = 0\n",
    "        game_over = self.t > self.max_time\n",
    "        state = np.concatenate((self.board.reshape(self.grid_size, self.grid_size,1),\n",
    "                        self.position.reshape(self.grid_size, self.grid_size,1)),axis=2)\n",
    "        state = state[self.x-2:self.x+3,self.y-2:self.y+3,:]\n",
    "\n",
    "        return state, reward, game_over\n",
    "\n",
    "    def reset(self):\n",
    "        \"\"\"This function resets the game and returns the initial state\"\"\"\n",
    "\n",
    "        self.x = np.random.randint(3, self.grid_size-3, size=1)[0]\n",
    "        self.y = np.random.randint(3, self.grid_size-3, size=1)[0]\n",
    "\n",
    "\n",
    "        bonus = 0.5*np.random.binomial(1,self.temperature,size=self.grid_size**2)\n",
    "        bonus = bonus.reshape(self.grid_size,self.grid_size)\n",
    "\n",
    "        malus = -1.0*np.random.binomial(1,self.temperature,size=self.grid_size**2)\n",
    "        malus = malus.reshape(self.grid_size, self.grid_size)\n",
    "\n",
    "        self.to_draw = np.zeros((self.max_time+2, self.grid_size*self.scale, self.grid_size*self.scale, 3))\n",
    "\n",
    "\n",
    "        malus[bonus>0]=0\n",
    "\n",
    "        self.board = bonus + malus\n",
    "\n",
    "        self.position = np.zeros((self.grid_size, self.grid_size))\n",
    "        self.position[0:2,:]= -1\n",
    "        self.position[:,0:2] = -1\n",
    "        self.position[-2:, :] = -1\n",
    "        self.position[-2:, :] = -1\n",
    "        self.board[self.x,self.y] = 0\n",
    "        self.t = 0\n",
    "\n",
    "        state = np.concatenate((\n",
    "                               self.board.reshape(self.grid_size, self.grid_size,1),\n",
    "                        self.position.reshape(self.grid_size, self.grid_size,1)),axis=2)\n",
    "\n",
    "        state = state[self.x - 2:self.x + 3, self.y - 2:self.y + 3, :]\n",
    "        return state"
   ]
  },
  {
   "cell_type": "markdown",
   "metadata": {},
   "source": [
    "The following elements are important because they correspond to the hyper parameters for this project:"
   ]
  },
  {
   "cell_type": "code",
   "execution_count": 135,
   "metadata": {},
   "outputs": [],
   "source": [
    "# parameters\n",
    "size = 13\n",
    "T=200\n",
    "temperature=0.3\n",
    "epochs_train=21 # set small when debugging\n",
    "epochs_test=21 # set small when debugging\n",
    "\n",
    "# display videos\n",
    "def display_videos(name):\n",
    "    video = io.open(name, 'r+b').read()\n",
    "    encoded = base64.b64encode(video)\n",
    "    return '''<video alt=\"test\" controls>\n",
    "                <source src=\"data:video/mp4;base64,{0}\" type=\"video/mp4\" />\n",
    "             </video>'''.format(encoded.decode('ascii'))"
   ]
  },
  {
   "cell_type": "markdown",
   "metadata": {},
   "source": [
    "__Question 2__ Explain the use of the arrays ```position``` and ```board```."
   ]
  },
  {
   "cell_type": "markdown",
   "metadata": {},
   "source": [
    "The ```position``` array encodes the position of the rat : a coefficient of 1 indicates the rat is on this tile, a coefficient of -1 indicates the tile which the rat is forbidden to access.\n",
    "The ```board``` array stores the rewards : A tile has a coefficient of 0.5 if it contains cheese, -1 if it contains poison."
   ]
  },
  {
   "cell_type": "markdown",
   "metadata": {},
   "source": [
    "## Random Agent"
   ]
  },
  {
   "cell_type": "markdown",
   "metadata": {},
   "source": [
    "***\n",
    "__Question 3__ Implement a random Agent (only ```learned_act``` needs to be implemented):"
   ]
  },
  {
   "cell_type": "code",
   "execution_count": 11,
   "metadata": {},
   "outputs": [],
   "source": [
    "class RandomAgent(Agent):\n",
    "    def __init__(self):\n",
    "        super(RandomAgent, self).__init__()\n",
    "        pass\n",
    "\n",
    "    def learned_act(self, s):\n",
    "        return np.random.randint(0,3) #The random policy simply picks a random direction to move in\n",
    "        pass\n",
    "    "
   ]
  },
  {
   "cell_type": "markdown",
   "metadata": {},
   "source": [
    "NB : I didn't exactly know what you meant by \"random agent\", so I implemented an agent that picks an action at random."
   ]
  },
  {
   "cell_type": "markdown",
   "metadata": {},
   "source": [
    "***\n",
    "***\n",
    "__Question 4__ Visualize the game moves. You need to fill in the following function for the evaluation:"
   ]
  },
  {
   "cell_type": "code",
   "execution_count": 142,
   "metadata": {},
   "outputs": [],
   "source": [
    "def test(agent,env,epochs,prefix=''):\n",
    "    # Number of won games\n",
    "    score = 0\n",
    "        \n",
    "    for e in range(epochs_test):\n",
    "        \n",
    "        ##### FILL IN HERE\n",
    "        \n",
    "        # At each epoch, we restart to a fresh game and get the initial state\n",
    "        state = env.reset()\n",
    "        # This assumes that the games will end\n",
    "        game_over = False\n",
    "\n",
    "        win = 0\n",
    "        lose = 0\n",
    "\n",
    "        while not game_over:\n",
    "            # The agent performs an action\n",
    "            action = agent.act(state)\n",
    "\n",
    "            # Apply an action to the environment, get the next state, the reward\n",
    "            # and if the games end\n",
    "            prev_state = state\n",
    "            state, reward, game_over = env.act(action)\n",
    "\n",
    "            # Update the counters\n",
    "            if reward > 0:\n",
    "                win = win + reward\n",
    "            if reward < 0:\n",
    "                lose = lose -reward\n",
    "\n",
    "            # Apply the reinforcement strategy\n",
    "            #loss = agent.reinforce(prev_state, state,  action, reward, game_over)\n",
    "            #No need since our random agent has no reinforcement strategy\n",
    "\n",
    "        \n",
    "        \n",
    "        \n",
    "        # Save as a mp4\n",
    "        env.draw(prefix+str(e))\n",
    "        # Update stats\n",
    "        score = score + win-lose\n",
    "\n",
    "        print(\"Win/lose count {}/{}. Average score ({})\"\n",
    "              .format(win, lose, score/(1+e)))\n",
    "    print('Final score: '+str(score/epochs))"
   ]
  },
  {
   "cell_type": "code",
   "execution_count": 167,
   "metadata": {},
   "outputs": [
    {
     "name": "stdout",
     "output_type": "stream",
     "text": [
      "Win/lose count 2.0/11.0. Average score (-9.0)\n",
      "Win/lose count 6.0/9.0. Average score (-6.0)\n",
      "Win/lose count 4.5/6.0. Average score (-4.5)\n",
      "Win/lose count 7.0/16.0. Average score (-5.625)\n",
      "Win/lose count 2.0/5.0. Average score (-5.1)\n",
      "Win/lose count 4.5/6.0. Average score (-4.5)\n",
      "Win/lose count 4.0/8.0. Average score (-4.428571428571429)\n",
      "Win/lose count 5.0/12.0. Average score (-4.75)\n",
      "Win/lose count 7.5/11.0. Average score (-4.611111111111111)\n",
      "Win/lose count 7.0/8.0. Average score (-4.25)\n",
      "Win/lose count 4.0/6.0. Average score (-4.045454545454546)\n",
      "Win/lose count 6.0/9.0. Average score (-3.9583333333333335)\n",
      "Win/lose count 5.0/5.0. Average score (-3.6538461538461537)\n",
      "Win/lose count 2.0/10.0. Average score (-3.9642857142857144)\n",
      "Win/lose count 5.0/4.0. Average score (-3.6333333333333333)\n",
      "Win/lose count 4.5/6.0. Average score (-3.5)\n",
      "Win/lose count 5.0/11.0. Average score (-3.6470588235294117)\n",
      "Win/lose count 5.5/8.0. Average score (-3.5833333333333335)\n",
      "Win/lose count 6.0/10.0. Average score (-3.6052631578947367)\n",
      "Win/lose count 8.0/7.0. Average score (-3.375)\n",
      "Win/lose count 6.0/7.0. Average score (-3.261904761904762)\n",
      "Final score: -3.261904761904762\n"
     ]
    },
    {
     "data": {
      "text/html": [
       "<video alt=\"test\" controls>\n",
       "                <source src=\"data:video/mp4;base64,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\" type=\"video/mp4\" />\n",
       "             </video>"
      ],
      "text/plain": [
       "<IPython.core.display.HTML object>"
      ]
     },
     "execution_count": 167,
     "metadata": {},
     "output_type": "execute_result"
    }
   ],
   "source": [
    "# Initialize the game\n",
    "env = Environment(grid_size=size, max_time=T,temperature=temperature)\n",
    "\n",
    "# Initialize the agent!\n",
    "agent = RandomAgent()\n",
    "\n",
    "test(agent,env,epochs_test,prefix='random')\n",
    "HTML(display_videos('random0.mp4'))"
   ]
  },
  {
   "cell_type": "code",
   "execution_count": 14,
   "metadata": {},
   "outputs": [
    {
     "data": {
      "text/html": [
       "<video alt=\"test\" controls>\n",
       "                <source src=\"data:video/mp4;base64,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\" type=\"video/mp4\" />\n",
       "             </video>"
      ],
      "text/plain": [
       "<IPython.core.display.HTML object>"
      ]
     },
     "execution_count": 14,
     "metadata": {},
     "output_type": "execute_result"
    }
   ],
   "source": [
    "HTML(display_videos('random3.mp4')) #Just visualizing an additional video"
   ]
  },
  {
   "cell_type": "markdown",
   "metadata": {},
   "source": [
    "***\n",
    "## DQN"
   ]
  },
  {
   "cell_type": "markdown",
   "metadata": {},
   "source": [
    "Let us assume here that $T=\\infty$.\n",
    "\n",
    "***\n",
    "__Question 5__ Let $\\pi$ be a policy, show that:\n",
    "\n",
    "\\begin{equation*}\n",
    "Q^{\\pi}(s,a)=E_{(s',a')\\sim p(.|s,a)}[r(s,a)+\\gamma Q^{\\pi}(s',a')]\n",
    "\\end{equation*}\n",
    "\n",
    "Then, show that for the optimal policy $\\pi^*$ (we assume its existence), the following holds: \n",
    "\n",
    "\\begin{equation*}\n",
    "Q^{*}(s,a)=E_{s'\\sim \\pi^*(.|s,a)}[r(s,a)+\\gamma\\max_{a'}Q^{*}(s',a')].\n",
    "\\end{equation*}\n",
    "Finally, deduce that a plausible objective is:\n",
    "\n",
    "\\begin{equation*}\n",
    "\\mathcal{L}(\\theta)=E_{s' \\sim \\pi^*(.|s,a)}\\Vert r+\\gamma\\max\\max_{a'}Q(s',a',\\theta)-Q(s,a,\\theta)\\Vert^{2}.\n",
    "\\end{equation*}\n",
    "\n",
    "\n"
   ]
  },
  {
   "cell_type": "markdown",
   "metadata": {},
   "source": [
    "First equality :\n",
    "By definition, \\begin{align*}Q^\\pi(s,a)&=E_{p^{\\pi}}[\\sum_{t\\geq 0}\\gamma^{t}r(s_{t},a_{t})|s_{0}=s,a_{0}=a] \\\\\n",
    "&= E_{p^{\\pi}}[r(s,a)+ \\sum_{t \\geq 1}\\gamma^{t}r(s_{t},a_{t})] \\\\\n",
    "&= E_{p^{\\pi}}[r(s,a)+ \\gamma \\sum_{t \\geq 0}\\gamma^{t}r(s_{t+1},a_{t+1})]\\\\ .\n",
    "&= E_{(s',a')\\sim p(.|s,a)}[r(s,a)+\\gamma Q^{\\pi}(s',a')] \\end{align*}.\n",
    "\n",
    "Second equality : Applying the optimal policy $\\pi^*$ to the previous equality, we get \n",
    "\\begin{align*}Q^{*}(s,a)=E_{(s',a')\\sim \\pi^*(.|s,a)}[r(s,a)+\\gamma Q^{*}(s',a')].\\end{align*}.\n",
    "Since $\\pi^*$ is the optimal policy, it picks the action $a'$ which maximizes $Q^*(\\:.\\:,s')$, and so we obtain\n",
    "\\begin{align*}Q^{*}(s,a)=E_{s'\\sim \\pi^*(.|s,a)}[r(s,a)+\\gamma\\max_{a'}Q^{*}(s',a')].\\end{align*}\n",
    "\n",
    "Third equality : By taking for the loss the mean square difference between the Q function evaluated in the optimal state-action $\\underset{\\theta}{\\max} Q^*(s,a,\\theta)$ and the Q-function in the actual state $Q(s,a,\\theta)$,and taking into account the expression of $Q^*(s,a)$ we just proved we obtain\n",
    "\n",
    "\\begin{equation*}\n",
    "\\mathcal{L}(\\theta)=E_{s' \\sim \\pi^*(.|s,a)}\\Vert r+\\gamma\\max\\max_{a'}Q(s',a',\\theta)-Q(s,a,\\theta)\\Vert^{2}.\n",
    "\\end{equation*}\n",
    "\n",
    "\n"
   ]
  },
  {
   "cell_type": "markdown",
   "metadata": {},
   "source": [
    "***\n",
    "The DQN-learning algorithm relies on these derivations to train the parameters $\\theta$ of a Deep Neural Network:\n",
    "\n",
    "1. At the state $s_t$, select the action $a_t$ with best reward using $Q_t$ and store the results;\n",
    "\n",
    "2. Obtain the new state $s_{t+1}$ from the environment $p$;\n",
    "\n",
    "3. Store $(s_t,a_t,s_{t+1})$;\n",
    "\n",
    "4. Obtain $Q_{t+1}$ by minimizing  $\\mathcal{L}$ from a recovered batch from the previously stored results.\n",
    "\n",
    "***\n",
    "__Question 6__ Implement the class ```Memory``` that stores moves (in a replay buffer) via ```remember``` and provides a ```random_access``` to these. Specify a maximum memory size to avoid side effects. You can for example use a ```list()``` and set by default ```max_memory=100```."
   ]
  },
  {
   "cell_type": "code",
   "execution_count": 22,
   "metadata": {},
   "outputs": [],
   "source": [
    "class Memory(object):\n",
    "    def __init__(self, max_memory=100):\n",
    "        self.max_memory = max_memory\n",
    "        self.memory = list()\n",
    "\n",
    "    def remember(self, m):\n",
    "        if len(self.memory) < self.max_memory: #if the memory is not full, add the move to it\n",
    "            self.memory.append(m)\n",
    "        else: #if it is full remove the oldest move, and add the most recent move.\n",
    "            self.memory[0:-2] = self.memory[1:-1]\n",
    "            self.memory[-1] = m\n",
    "        \n",
    "\n",
    "    def random_access(self):\n",
    "        I = np.random.randint(0,len(self.memory))\n",
    "        return self.memory[I]#access a random move from memory\n",
    "        "
   ]
  },
  {
   "cell_type": "markdown",
   "metadata": {},
   "source": [
    "***\n",
    "The pipeline we will use for training is given below:"
   ]
  },
  {
   "cell_type": "code",
   "execution_count": 89,
   "metadata": {},
   "outputs": [],
   "source": [
    "def train(agent,env,epoch,prefix=''):\n",
    "    # Number of won games\n",
    "    score = 0\n",
    "    loss = 0\n",
    "\n",
    "    for e in range(epoch):\n",
    "        # At each epoch, we restart to a fresh game and get the initial state\n",
    "        state = env.reset()\n",
    "        # This assumes that the games will terminate\n",
    "        game_over = False\n",
    "\n",
    "        win = 0\n",
    "        lose = 0\n",
    "\n",
    "        while not game_over:\n",
    "            # The agent performs an action\n",
    "            action = agent.act(state)\n",
    "\n",
    "            # Apply an action to the environment, get the next state, the reward\n",
    "            # and if the games end\n",
    "            prev_state = state\n",
    "            state, reward, game_over = env.act(action)\n",
    "\n",
    "            # Update the counters\n",
    "            if reward > 0:\n",
    "                win = win + reward\n",
    "            if reward < 0:\n",
    "                lose = lose -reward\n",
    "\n",
    "            # Apply the reinforcement strategy\n",
    "            loss = agent.reinforce(prev_state, state,  action, reward, game_over)\n",
    "\n",
    "        # Save as a mp4\n",
    "        if e % 10 == 0:\n",
    "            env.draw(prefix+str(e))\n",
    "\n",
    "        # Update stats\n",
    "        score += win-lose\n",
    "\n",
    "        print(\"Epoch {:03d}/{:03d} | Loss {:.4f} | Win/lose count {}/{} ({})\"\n",
    "              .format(e, epoch, loss, win, lose, win-lose))\n",
    "        agent.save(name_weights=prefix+'model.h5',name_model=prefix+'model.json')"
   ]
  },
  {
   "cell_type": "markdown",
   "metadata": {},
   "source": [
    "***\n",
    "__Question 7__ Implement the DQN training algorithm using a cascade of fully connected layers. You can use different learning rate, batch size or memory size parameters. In particular, the loss might oscillate while the player will start to win the games. You have to find a good criterium."
   ]
  },
  {
   "cell_type": "code",
   "execution_count": 130,
   "metadata": {},
   "outputs": [],
   "source": [
    "class DQN(Agent):\n",
    "    def __init__(self, grid_size,  epsilon = 0.1, memory_size=100, batch_size = 16,n_state=2):\n",
    "        super(DQN, self).__init__(epsilon = epsilon)\n",
    "\n",
    "        # Discount for Q learning\n",
    "        self.discount = 0.99\n",
    "        \n",
    "        self.grid_size = grid_size\n",
    "        \n",
    "        # number of state\n",
    "        self.n_state = n_state\n",
    "\n",
    "        # Memory\n",
    "        self.memory = Memory(memory_size)\n",
    "        \n",
    "        # Batch size when learning\n",
    "        self.batch_size = batch_size\n",
    "\n",
    "    def learned_act(self, s):\n",
    "        return np.argmax(self.model.predict(s.reshape(1,5,5,self.n_state)))#picking the best action according to the network\n",
    "        pass\n",
    "\n",
    "    def reinforce(self, s_, n_s_, a_, r_, game_over_):\n",
    "        # Two steps: first memorize the states, second learn from the pool\n",
    "\n",
    "        self.memory.remember([s_, n_s_, a_, r_, game_over_])\n",
    "        input_states = np.zeros((self.batch_size, 5,5,self.n_state))\n",
    "        target_q = np.zeros((self.batch_size, 4))\n",
    "        \n",
    "        for i in range(self.batch_size):\n",
    "            ######## FILL IN\n",
    "            #batch.append(self.memory.random_access())\n",
    "            state,new_state,action,reward,gameover = self.memory.random_access()#pulling from memory\n",
    "            \n",
    "            input_states[i] = state #adding state to the input states\n",
    "            \n",
    "            target_q[i] = self.model.predict(state.reshape(1,5,5,self.n_state)) #predicting target_q. This is so that \n",
    "            #the gradients according to the actions which weren't played at time i are 0 (so that we don't update the Q-function\n",
    "            #with data we do not have)\n",
    "            if gameover:\n",
    "                ######## FILL IN\n",
    "                        target_q[i][action] = reward #updating the target q according to the equations in Q5\n",
    "                \n",
    "            else:\n",
    "                ######## FILL IN\n",
    "                target_q[i][action] = reward+self.discount*np.max(self.model.predict(new_state.reshape(1,5,5,self.n_state))) \n",
    "                #updating the target q according to the equations in Q5\n",
    "        ######## FILL IN\n",
    "        \n",
    "        \n",
    "        # HINT: Clip the target to avoid exploiding gradients.. -- clipping is a bit tighter\n",
    "        target_q = np.clip(target_q, -3, 3)\n",
    "\n",
    "        l = self.model.train_on_batch(input_states, target_q)\n",
    "\n",
    "\n",
    "        return l\n",
    "\n",
    "    def save(self,name_weights='model.h5',name_model='model.json'):\n",
    "        self.model.save_weights(name_weights, overwrite=True)\n",
    "        with open(name_model, \"w\") as outfile:\n",
    "            json.dump(self.model.to_json(), outfile)\n",
    "            \n",
    "    def load(self,name_weights='model.h5',name_model='model.json'):\n",
    "        with open(name_model, \"r\") as jfile:\n",
    "            model = model_from_json(json.load(jfile))\n",
    "        model.load_weights(name_weights)\n",
    "        model.compile(\"sgd\", \"mse\")\n",
    "        self.model = model\n",
    "\n",
    "            \n",
    "class DQN_FC(DQN):\n",
    "    def __init__(self, *args, lr=0.1,**kwargs):\n",
    "        super(DQN_FC, self).__init__( *args,**kwargs)\n",
    "        \n",
    "        # NN Model\n",
    "        \n",
    "        ####### FILL IN\n",
    "        model=Sequential()\n",
    "        model.add(Dense(20,input_shape = (5,5,self.n_state),activation='relu'))\n",
    "        model.add(Dense(20,activation='relu'))\n",
    "        model.add(Dense(20,activation='relu'))\n",
    "        model.add(Dense(20,activation='relu'))\n",
    "        model.add(Flatten())\n",
    "        model.add(Dense(4,activation='linear'))\n",
    "        \n",
    "        \n",
    "        model.compile(sgd(lr=lr, decay=1e-4, momentum=0.0), \"mse\")\n",
    "        #model.compile(optimizer='adam',loss='mse')\n",
    "        self.model = model\n",
    "        "
   ]
  },
  {
   "cell_type": "code",
   "execution_count": 131,
   "metadata": {},
   "outputs": [
    {
     "name": "stdout",
     "output_type": "stream",
     "text": [
      "Epoch 000/020 | Loss 0.1327 | Win/lose count 5.5/5.0 (0.5)\n",
      "Epoch 001/020 | Loss 0.0017 | Win/lose count 3.5/7.0 (-3.5)\n",
      "Epoch 002/020 | Loss 0.0040 | Win/lose count 2.0/2.0 (0.0)\n",
      "Epoch 003/020 | Loss 0.0258 | Win/lose count 7.0/5.0 (2.0)\n",
      "Epoch 004/020 | Loss 0.0041 | Win/lose count 6.0/5.0 (1.0)\n",
      "Epoch 005/020 | Loss 0.0094 | Win/lose count 2.0/5.0 (-3.0)\n",
      "Epoch 006/020 | Loss 0.0083 | Win/lose count 5.5/3.0 (2.5)\n",
      "Epoch 007/020 | Loss 0.0205 | Win/lose count 2.5/5.0 (-2.5)\n",
      "Epoch 008/020 | Loss 0.0025 | Win/lose count 3.0/0 (3.0)\n",
      "Epoch 009/020 | Loss 0.0094 | Win/lose count 6.0/2.0 (4.0)\n",
      "Epoch 010/020 | Loss 0.0024 | Win/lose count 2.5/4.0 (-1.5)\n",
      "Epoch 011/020 | Loss 0.0015 | Win/lose count 6.5/1.0 (5.5)\n",
      "Epoch 012/020 | Loss 0.0015 | Win/lose count 5.0/2.0 (3.0)\n",
      "Epoch 013/020 | Loss 0.0001 | Win/lose count 5.5/1.0 (4.5)\n",
      "Epoch 014/020 | Loss 0.0003 | Win/lose count 6.0/2.0 (4.0)\n",
      "Epoch 015/020 | Loss 0.0040 | Win/lose count 6.0/2.0 (4.0)\n",
      "Epoch 016/020 | Loss 0.0017 | Win/lose count 7.0/1.0 (6.0)\n",
      "Epoch 017/020 | Loss 0.0002 | Win/lose count 15.5/5.0 (10.5)\n",
      "Epoch 018/020 | Loss 0.0000 | Win/lose count 5.5/1.0 (4.5)\n",
      "Epoch 019/020 | Loss 0.0000 | Win/lose count 9.0/2.0 (7.0)\n"
     ]
    },
    {
     "data": {
      "text/html": [
       "<video alt=\"test\" controls>\n",
       "                <source src=\"data:video/mp4;base64,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\" type=\"video/mp4\" />\n",
       "             </video>"
      ],
      "text/plain": [
       "<IPython.core.display.HTML object>"
      ]
     },
     "execution_count": 131,
     "metadata": {},
     "output_type": "execute_result"
    }
   ],
   "source": [
    "env = Environment(grid_size=size, max_time=T, temperature=0.3)\n",
    "agent = DQN_FC(size, lr=.1, epsilon = 0.1, memory_size=2000, batch_size = 16)\n",
    "train(agent, env, epochs_train, prefix='fc_train')\n",
    "HTML(display_videos('fc_train20.mp4'))\n",
    "#Training on 20 epochs only because training is slow. Nonetheless you can see the agent has learned a bit, although it is a bit timid."
   ]
  },
  {
   "cell_type": "code",
   "execution_count": 129,
   "metadata": {},
   "outputs": [
    {
     "data": {
      "text/html": [
       "<video alt=\"test\" controls>\n",
       "                <source src=\"data:video/mp4;base64,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\" type=\"video/mp4\" />\n",
       "             </video>"
      ],
      "text/plain": [
       "<IPython.core.display.HTML object>"
      ]
     },
     "execution_count": 129,
     "metadata": {},
     "output_type": "execute_result"
    }
   ],
   "source": [
    "HTML(display_videos('fc_train20.mp4'))"
   ]
  },
  {
   "cell_type": "markdown",
   "metadata": {},
   "source": [
    "***\n",
    "***\n",
    "__Question 8__ Implement the DQN training algorithm using a CNN (for example, 2 convolutional layers and one final fully connected layer)."
   ]
  },
  {
   "cell_type": "code",
   "execution_count": 132,
   "metadata": {},
   "outputs": [],
   "source": [
    "class DQN_CNN(DQN):\n",
    "    def __init__(self, *args,lr=0.1,**kwargs):\n",
    "        super(DQN_CNN, self).__init__(*args,**kwargs)\n",
    "        \n",
    "        ###### FILL IN\n",
    "        model=Sequential()\n",
    "        model.add(Conv2D(10,kernel_size=(3,3),input_shape = (5,5,self.n_state),activation='relu'))\n",
    "        model.add(Conv2D(10,kernel_size=(3,3),input_shape = (5,5,self.n_state),activation='relu'))\n",
    "        model.add(Flatten())\n",
    "        model.add(Dense(4,activation='linear'))\n",
    "        \n",
    "        model.compile(sgd(lr=lr, decay=1e-4, momentum=0.0), \"mse\")\n",
    "        self.model = model"
   ]
  },
  {
   "cell_type": "code",
   "execution_count": 136,
   "metadata": {},
   "outputs": [
    {
     "name": "stdout",
     "output_type": "stream",
     "text": [
      "Epoch 000/021 | Loss 0.0123 | Win/lose count 0.5/3.0 (-2.5)\n",
      "Epoch 001/021 | Loss 0.0049 | Win/lose count 2.5/6.0 (-3.5)\n",
      "Epoch 002/021 | Loss 0.0003 | Win/lose count 4.0/1.0 (3.0)\n",
      "Epoch 003/021 | Loss 0.0009 | Win/lose count 5.0/2.0 (3.0)\n",
      "Epoch 004/021 | Loss 0.0033 | Win/lose count 5.5/6.0 (-0.5)\n",
      "Epoch 005/021 | Loss 0.0033 | Win/lose count 2.0/4.0 (-2.0)\n",
      "Epoch 006/021 | Loss 0.0005 | Win/lose count 4.0/4.0 (0.0)\n",
      "Epoch 007/021 | Loss 0.0041 | Win/lose count 1.5/5.0 (-3.5)\n",
      "Epoch 008/021 | Loss 0.0041 | Win/lose count 4.0/4.0 (0.0)\n",
      "Epoch 009/021 | Loss 0.0007 | Win/lose count 2.5/3.0 (-0.5)\n",
      "Epoch 010/021 | Loss 0.0020 | Win/lose count 7.5/3.0 (4.5)\n",
      "Epoch 011/021 | Loss 0.0012 | Win/lose count 2.0/1.0 (1.0)\n",
      "Epoch 012/021 | Loss 0.0001 | Win/lose count 4.5/3.0 (1.5)\n",
      "Epoch 013/021 | Loss 0.0018 | Win/lose count 3.0/5.0 (-2.0)\n",
      "Epoch 014/021 | Loss 0.0024 | Win/lose count 2.0/2.0 (0.0)\n",
      "Epoch 015/021 | Loss 0.0005 | Win/lose count 3.0/0 (3.0)\n",
      "Epoch 016/021 | Loss 0.0010 | Win/lose count 7.5/4.0 (3.5)\n",
      "Epoch 017/021 | Loss 0.0008 | Win/lose count 8.0/5.0 (3.0)\n",
      "Epoch 018/021 | Loss 0.0000 | Win/lose count 5.5/6.0 (-0.5)\n",
      "Epoch 019/021 | Loss 0.0000 | Win/lose count 5.0/3.0 (2.0)\n",
      "Epoch 020/021 | Loss 0.0000 | Win/lose count 7.0/6.0 (1.0)\n"
     ]
    },
    {
     "data": {
      "text/html": [
       "<video alt=\"test\" controls>\n",
       "                <source src=\"data:video/mp4;base64,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\" type=\"video/mp4\" />\n",
       "             </video>"
      ],
      "text/plain": [
       "<IPython.core.display.HTML object>"
      ]
     },
     "execution_count": 136,
     "metadata": {},
     "output_type": "execute_result"
    }
   ],
   "source": [
    "env = Environment(grid_size=size, max_time=T, temperature=0.3)\n",
    "agent = DQN_CNN(size, lr=.1, epsilon = 0.1, memory_size=2000, batch_size = 16)\n",
    "train(agent,env,epochs_train,prefix='cnn_train')\n",
    "HTML(display_videos('cnn_train20.mp4'))"
   ]
  },
  {
   "cell_type": "code",
   "execution_count": 137,
   "metadata": {},
   "outputs": [
    {
     "data": {
      "text/html": [
       "<video alt=\"test\" controls>\n",
       "                <source src=\"data:video/mp4;base64,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\" type=\"video/mp4\" />\n",
       "             </video>"
      ],
      "text/plain": [
       "<IPython.core.display.HTML object>"
      ]
     },
     "execution_count": 137,
     "metadata": {},
     "output_type": "execute_result"
    }
   ],
   "source": [
    "HTML(display_videos('cnn_train20.mp4'))"
   ]
  },
  {
   "cell_type": "markdown",
   "metadata": {},
   "source": [
    "***\n",
    "***\n",
    "__Question 9__ Test both algorithms and compare their performances. Which issue(s) do you observe? Observe also different behaviors by changing the temperature."
   ]
  },
  {
   "cell_type": "code",
   "execution_count": 143,
   "metadata": {},
   "outputs": [
    {
     "name": "stdout",
     "output_type": "stream",
     "text": [
      "Test of the CNN\n",
      "Win/lose count 2.5/4.0. Average score (-1.5)\n",
      "Win/lose count 4.0/3.0. Average score (-0.25)\n",
      "Win/lose count 2.5/3.0. Average score (-0.3333333333333333)\n",
      "Win/lose count 5.5/6.0. Average score (-0.375)\n",
      "Win/lose count 6.0/2.0. Average score (0.5)\n",
      "Win/lose count 4.0/2.0. Average score (0.75)\n",
      "Win/lose count 5.5/2.0. Average score (1.1428571428571428)\n",
      "Win/lose count 1.0/2.0. Average score (0.875)\n",
      "Win/lose count 2.5/1.0. Average score (0.9444444444444444)\n",
      "Win/lose count 1.0/2.0. Average score (0.75)\n",
      "Win/lose count 6.5/5.0. Average score (0.8181818181818182)\n",
      "Win/lose count 3.0/8.0. Average score (0.3333333333333333)\n",
      "Win/lose count 2.0/0. Average score (0.46153846153846156)\n",
      "Win/lose count 1.5/1.0. Average score (0.4642857142857143)\n",
      "Win/lose count 5.5/3.0. Average score (0.6)\n",
      "Win/lose count 1.5/1.0. Average score (0.59375)\n",
      "Win/lose count 6.5/1.0. Average score (0.8823529411764706)\n",
      "Win/lose count 5.0/7.0. Average score (0.7222222222222222)\n",
      "Win/lose count 2.0/3.0. Average score (0.631578947368421)\n",
      "Win/lose count 2.5/3.0. Average score (0.575)\n",
      "Win/lose count 2.5/6.0. Average score (0.38095238095238093)\n",
      "Final score: 0.38095238095238093\n",
      "Test of the FC\n",
      "Win/lose count 8.0/3.0. Average score (5.0)\n",
      "Win/lose count 2.5/2.0. Average score (2.75)\n",
      "Win/lose count 9.0/5.0. Average score (3.1666666666666665)\n",
      "Win/lose count 7.0/3.0. Average score (3.375)\n",
      "Win/lose count 4.5/4.0. Average score (2.8)\n",
      "Win/lose count 2.0/3.0. Average score (2.1666666666666665)\n",
      "Win/lose count 3.5/2.0. Average score (2.0714285714285716)\n",
      "Win/lose count 11.5/3.0. Average score (2.875)\n",
      "Win/lose count 6.5/3.0. Average score (2.9444444444444446)\n",
      "Win/lose count 10.0/6.0. Average score (3.05)\n",
      "Win/lose count 11.5/3.0. Average score (3.5454545454545454)\n",
      "Win/lose count 3.0/1.0. Average score (3.4166666666666665)\n",
      "Win/lose count 5.5/0. Average score (3.576923076923077)\n",
      "Win/lose count 4.5/4.0. Average score (3.357142857142857)\n",
      "Win/lose count 6.0/3.0. Average score (3.3333333333333335)\n",
      "Win/lose count 10.5/1.0. Average score (3.71875)\n",
      "Win/lose count 2.0/3.0. Average score (3.4411764705882355)\n",
      "Win/lose count 5.5/2.0. Average score (3.4444444444444446)\n",
      "Win/lose count 11.0/0. Average score (3.8421052631578947)\n",
      "Win/lose count 11.5/4.0. Average score (4.025)\n",
      "Win/lose count 4.5/4.0. Average score (3.857142857142857)\n",
      "Final score: 3.857142857142857\n"
     ]
    }
   ],
   "source": [
    "env = Environment(grid_size=size, max_time=T,temperature=0.3)\n",
    "agent_cnn = DQN_CNN(size, lr=.1, epsilon = 0.1, memory_size=2000, batch_size = 32)\n",
    "agent_cnn.load(name_weights='cnn_trainmodel.h5',name_model='cnn_trainmodel.json')\n",
    "\n",
    "agent_fc = DQN_FC(size, lr=.1, epsilon = 0.1, memory_size=2000, batch_size = 32)\n",
    "agent_fc.load(name_weights='fc_trainmodel.h5',name_model='fc_trainmodel.json')\n",
    "print('Test of the CNN')\n",
    "test(agent_cnn,env,epochs_test,prefix='cnn_test')\n",
    "print('Test of the FC')\n",
    "test(agent_fc,env,epochs_test,prefix='fc_test')"
   ]
  },
  {
   "cell_type": "code",
   "execution_count": 144,
   "metadata": {},
   "outputs": [
    {
     "data": {
      "text/html": [
       "<video alt=\"test\" controls>\n",
       "                <source src=\"data:video/mp4;base64,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\" type=\"video/mp4\" />\n",
       "             </video>"
      ],
      "text/plain": [
       "<IPython.core.display.HTML object>"
      ]
     },
     "execution_count": 144,
     "metadata": {},
     "output_type": "execute_result"
    }
   ],
   "source": [
    "HTML(display_videos('cnn_test10.mp4'))"
   ]
  },
  {
   "cell_type": "code",
   "execution_count": 145,
   "metadata": {},
   "outputs": [
    {
     "data": {
      "text/html": [
       "<video alt=\"test\" controls>\n",
       "                <source src=\"data:video/mp4;base64,AAAAIGZ0eXBpc29tAAACAGlzb21pc28yYXZjMW1wNDEAAAAIZnJlZQAAFwZtZGF0AAACrQYF//+p3EXpvebZSLeWLNgg2SPu73gyNjQgLSBjb3JlIDE1NyByMjkzNSA1NDVkZTJmIC0gSC4yNjQvTVBFRy00IEFWQyBjb2RlYyAtIENvcHlsZWZ0IDIwMDMtMjAxOCAtIGh0dHA6Ly93d3cudmlkZW9sYW4ub3JnL3gyNjQuaHRtbCAtIG9wdGlvbnM6IGNhYmFjPTEgcmVmPTMgZGVibG9jaz0xOjA6MCBhbmFseXNlPTB4MToweDExMSBtZT1oZXggc3VibWU9NyBwc3k9MSBwc3lfcmQ9MS4wMDowLjAwIG1peGVkX3JlZj0xIG1lX3JhbmdlPTE2IGNocm9tYV9tZT0xIHRyZWxsaXM9MSA4eDhkY3Q9MCBjcW09MCBkZWFkem9uZT0yMSwxMSBmYXN0X3Bza2lwPTEgY2hyb21hX3FwX29mZnNldD00IHRocmVhZHM9NiBsb29rYWhlYWRfdGhyZWFkcz0xIHNsaWNlZF90aHJlYWRzPTAgbnI9MCBkZWNpbWF0ZT0xIGludGVybGFjZWQ9MCBibHVyYXlfY29tcGF0PTAgY29uc3RyYWluZWRfaW50cmE9MCBiZnJhbWVzPTMgYl9weXJhbWlkPTIgYl9hZGFwdD0xIGJfYmlhcz0wIGRpcmVjdD0xIHdlaWdodGI9MSBvcGVuX2dvcD0wIHdlaWdodHA9MiBrZXlpbnQ9MjUwIGtleWludF9taW49MjUgc2NlbmVjdXQ9NDAgaW50cmFfcmVmcmVzaD0wIHJjX2xvb2thaGVhZD00MCByYz1jcmYgbWJ0cmVlPTEgY3JmPTIzLjAgcWNvbXA9MC42MCBxcG1pbj0wIHFwbWF4PTY5IHFwc3RlcD00IGlwX3JhdGlvPTEuNDAgYXE9MToxLjAwAIAAAAMGZYiEADP//vaG+BTYUyP+T7/8I/+5H7cfWfrixkIJvrVeQ9GAMl8a/5lGYaXpyc8t7R+vTNAEZz6HlLJIofgUkwDfMsjnE+J8s6FP3lFrFWUnapilQooJthtp0b20Oa//NJgO5fPUaPtdoI9VVfVxtvPlYWlz0VJoQVYyZiiQy7yYH1ycSbJKQxCBND2AlsapA5vdEfZAFeIGKFmJVSKw65K/SxaNcWnrGFUajCMit7xNUY+20vZovlyKI3u/Z3hNmi/xX70Dl7skV/8SKUOKHlV1REBSrjoHjIEMdHqRjkg70wgkwN5cNqZTRWhUk8eF8kA85AKampCrayaC3R16w3yY0NUh1Ka4Re1jd/vbPnKMrSpARgKXSzct3YIMAWQd506KYTY8LyExrAch3VGHy+LzKV0dmX9l1pB8HM9FxtH6dDIqqZvApxjqAhmHMh09kswaRV9MjsioLOPluApUayzbDXHmqZn3Gp/yYATiFJ3YO30Tx8SyQGEv/gANCtgiPCtsxhCbBIYwtD9G99OALUnx6huxcJ81CQkFcLnoEewvttvzUhb+XFrsah+mzZB0T6rabKfB+rFkWb1RW64J6FeDgwTkKBBd3povIu7nXgko8GcAza4W1CBN8LdjW6fwSVDF2gAhX8xg1otqK+5Jk52GVgQr/02emagbt3/VOT/GE4lysmdy7hxupR6TBo6vIXcWb80XqlaMcq1je7Q74UTZOKssXBYNXTkbHGkxAYh+YS0pPkeQHXA62trT/dDHMegaA/4as1TmEyL+irdriNjJxdvBLF3JGU7NTshDpka+PjRRigC1AcIJsuCzymAa0i0BCUHyir+3FwsxW8rJ5N9ZO27mermSqlMhZurB8YTtJwEmdhzRwrGLbUQyhFCTzxUIfV4SS6RGgghdqiV0fF/CV+0iZKVt2y5J/7qN+YzMAAi9/8tE4q0kvZieqVvpY4OVyrrrCt5S6WffdqNbsn8MU1P8Q7H9BuYN3p48HMneyeuHEZIXPEyKJEhaUtKypFuAABIxAAAAE0GaIWxDf/6nhACr8CkEIn+W2kYAAAAbQZpDPCGTKYQ3//6nhAEF+OmP8TXGqIPm8LP9AAAAEAGeYmpCvwDXgsa95pWbS8AAAAAZQZpkSeEPJlMCG//+p4QBrmif6nv7Pk1xwQAAABtBmoVJ4Q8mUwId//6plgKRyDM+T1JA4f2NRcEAAAAVQZqpSeEPJlMCG//+p4QFs40/ZiGVAAAADkGex0URPC//AYeP+zZhAAAADwGe5nRCvwILaO6QluQBKwAAAA8BnuhqQr8CCqNEGOnSUekAAAASQZrtSahBaJlMCG///qeEAAEnAAAADEGfC0URLC//AACygAAAAA8Bnyp0Qr8CC2jukJbkASsAAAAPAZ8sakK/AgqjRBjp0lHpAAAAG0GbLkmoQWyZTAh3//6plgKjykjN6WdHUAhFxQAAAB5Bm1BJ4QpSZTBRUsO//qmWAmPZj8x5whuJrbjLTlkAAAAQAZ9vakK/Aeu3Bh9ASDSPmAAAABJBm3RJ4Q6JlMCHf/6plgAAlYAAAAAMQZ+SRRU8L/8AALKBAAAAEAGfsXRCvwFEso78AH26Y8AAAAAQAZ+zakK/AUSyjvZ4+3THgAAAABNBm7hJqEFomUwId//+qZYAAJWBAAAADEGf1kURLC//AACygAAAABABn/V0Qr8BRLKO/AB9umPBAAAAEAGf92pCvwFEso72ePt0x4EAAAAcQZv8SahBbJlMCG///qeEBYxWqY/1AC9g/SQoIAAAABBBnhpFFSwv/wGH76VwQRUxAAAADwGeOXRCvwFIjGLgPyz6oAAAAA8BnjtqQr8CC2OycNm02TMAAAAoQZo+SahBbJlMFEw3//6nhAcfTDV8CmvqFfgUqWz8Cmdgc9XX2FEKCQAAAA8Bnl1qQr8CMuqeS5nu6P8AAAAbQZpBSeEKUmUwIb/+p4QH70c+SacmpgtzSqhgAAAAEUGef0U0TCv/AkiuDXHqZGcnAAAADgGegGpCvwJIDMeKqpycAAAAHkGag0moQWiZTBTw3/6nhAHx6J/g1XgeDc+82ntXEQAAABABnqJqQr8BY25DD6AkHEtoAAAAGUGapEnhClJlMCG//qeEASQfMck7jZgrnTEAAAAgQZrGSeEOiZTBTRMO//6plgEjpZi0zPmeGcJgo+hi2oEAAAAQAZ7lakK/AX92pbhs2pjQgQAAACJBmupJ4Q8mUwIb//6nhAzrWkI90c9YOwuZZYmR2hH3RxixAAAAFkGfCEURPC//AgHcL79capfAi90PWUAAAAAPAZ8ndEK/ApHNUDpuX5EPAAAAEAGfKWpCvwKvNG80utZNakEAAAAaQZsrSahBaJlMCHf//qmWAUztL+ThBuJoP8AAAAAWQZtPSeEKUmUwId/+qZYAnBRzraRPSAAAAA5Bn21FNEwv/wC6MqAwIQAAAA8Bn4x0Qr8A+1SOI7LsqW0AAAAPAZ+OakK/APtUjdZ6s9JvAAAAEkGbk0moQWiZTAhv//6nhAABJwAAAAxBn7FFESwv/wAAsoAAAAAPAZ/QdEK/APtUjiOy7KltAAAADwGf0mpCvwD7VI3WerPSbgAAABJBm9dJqEFsmUwIb//+p4QAAScAAAAMQZ/1RRUsL/8AALKBAAAADwGeFHRCvwD7VI4jsuypbQAAAA8BnhZqQr8A+1SN1nqz0m8AAAAZQZoYSahBbJlMCG///qeEAT346Y/w+rSZNwAAAB5BmjpJ4QpSZTBRUsN//qeEATX6OfkjAC3Ptlt/YOAAAAAQAZ5ZakK/APgETNN9JBxPmQAAABxBmlxJ4Q6JlMFEw3/+p4QAzfsH+cp14Ua3Mdj4AAAADwGee2pCvwCoNt0o0h4l1QAAABlBmn1J4Q8mUwId//6plgBAfjzpZ0dTyM3BAAAAH0GagUnhDyZTAh3//qmWAD0qOs/zCh2aR5JfRjc4YPAAAAAUQZ6/RRE8L/8AS3zzDxgUfTOSX4MAAAAQAZ7edEK/AGcAADJLf63lQQAAABABnsBqQr8AZx2pbhs2psGAAAAAH0GaxUmoQWiZTAh3//6plgA+vtL+0GtJHnz1BTEWTs0AAAAVQZ7jRREsL/8AT5NnJm3x+Vy/e1ZUAAAADwGfAnRCvwBsJD8b1BGtnwAAAA8BnwRqQr8AbAlpUigSqekAAAAXQZsJSahBbJlMCHf//qmWABtPhR9z9SEAAAAUQZ8nRRUsL/8AMlEtymY+YhwYGoEAAAAQAZ9GdEK/AENdqTyvyU2oEAAAABABn0hqQr8ARV5omRNKzfTAAAAAE0GbTUmoQWyZTAh3//6plgAAlYEAAAAQQZ9rRRUsL/8AMlEtz9cSLwAAABABn4p0Qr8AQ12pPK/JTagQAAAAEAGfjGpCvwBFXmiZE0rN9MEAAAATQZuRSahBbJlMCHf//qmWAACVgQAAABBBn69FFSwv/wAyUS3P1xIvAAAAEAGfznRCvwBDXak8r8lNqBAAAAAQAZ/QakK/AEVeaJkTSs30wAAAABNBm9VJqEFsmUwId//+qZYAAJWBAAAAEEGf80UVLC//ADJRLc/XEi8AAAAQAZ4SdEK/AENdqTyvyU2oEAAAABABnhRqQr8ARV5omRNKzfTBAAAAE0GaGUmoQWyZTAh3//6plgAAlYAAAAAQQZ43RRUsL/8AMlEtz9cSLwAAABABnlZ0Qr8AQ12pPK/JTagRAAAAEAGeWGpCvwBFXmiZE0rN9MAAAAATQZpdSahBbJlMCHf//qmWAACVgQAAABBBnntFFSwv/wAyUS3P1xIvAAAAEAGemnRCvwBDXak8r8lNqBEAAAAQAZ6cakK/AEVeaJkTSs30wQAAABNBmoFJqEFsmUwId//+qZYAAJWAAAAAEEGev0UVLC//ADJRLc/XEi8AAAAQAZ7edEK/AENdqTyvyU2oEQAAABABnsBqQr8ARV5omRNKzfTAAAAAE0GaxUmoQWyZTAh3//6plgAAlYEAAAAQQZ7jRRUsL/8AMlEtz9cSLwAAABABnwJ0Qr8AQ12pPK/JTagRAAAAEAGfBGpCvwBFXmiZE0rN9MEAAAATQZsJSahBbJlMCHf//qmWAACVgQAAABBBnydFFSwv/wAyUS3P1xIvAAAAEAGfRnRCvwBDXak8r8lNqBAAAAAQAZ9IakK/AEVeaJkTSs30wAAAABxBm01JqEFsmUwId//+qZYAQgo6IFmgO76MeuCTAAAAEEGfa0UVLC//AE+ZYJ8brMAAAAAQAZ+KdEK/AGwkWVeBFdvAgAAAAA8Bn4xqQr8AbCxA8mCLl4EAAAATQZuRSahBbJlMCHf//qmWAACVgQAAAAxBn69FFSwv/wAAsoEAAAAQAZ/OdEK/AGrzk4jsuyrZgAAAAA8Bn9BqQr8AavOTdZ6s9XcAAAATQZvVSahBbJlMCHf//qmWAACVgQAAAAxBn/NFFSwv/wAAsoAAAAAQAZ4SdEK/AGrzk4jsuyrZgAAAAA8BnhRqQr8AavOTdZ6s9XcAAAATQZoZSahBbJlMCHf//qmWAACVgAAAAAxBnjdFFSwv/wAAsoEAAAAQAZ5WdEK/AGrzk4jsuyrZgQAAAA8BnlhqQr8AavOTdZ6s9XcAAAATQZpdSahBbJlMCHf//qmWAACVgQAAAAxBnntFFSwv/wAAsoAAAAAQAZ6adEK/AGrzk4jsuyrZgQAAAA8BnpxqQr8AavOTdZ6s9XcAAAAdQZqfSahBbJlMFEw7//6plgBCfjz+XZ7ULIUue70AAAAQAZ6+akK/AGwI7c60MLxyQAAAABJBmqNJ4QpSZTAh3/6plgAAlYEAAAATQZ7BRTRML/8AMlEtymY+YiKt8wAAABABnuB0Qr8AQ12pPK/JTagRAAAAEAGe4mpCvwBFXmiZE0rN9MAAAAATQZrnSahBaJlMCHf//qmWAACVgQAAABBBnwVFESwv/wAyUS3P1xIvAAAAEAGfJHRCvwBDXak8r8lNqBEAAAAQAZ8makK/AEVeaJkTSs30wQAAABNBmytJqEFsmUwId//+qZYAAJWAAAAAEEGfSUUVLC//ADJRLc/XEi8AAAAQAZ9odEK/AENdqTyvyU2oEQAAABABn2pqQr8ARV5omRNKzfTAAAAAE0Gbb0moQWyZTAh3//6plgAAlYAAAAAQQZ+NRRUsL/8AMlEtz9cSLwAAABABn6x0Qr8AQ12pPK/JTagRAAAAEAGfrmpCvwBFXmiZE0rN9MEAAAATQZuzSahBbJlMCHf//qmWAACVgAAAABBBn9FFFSwv/wAyUS3P1xIvAAAAEAGf8HRCvwBDXak8r8lNqBEAAAAQAZ/yakK/AEVeaJkTSs30wAAAABNBm/dJqEFsmUwId//+qZYAAJWAAAAAEEGeFUUVLC//ADJRLc/XEi8AAAAQAZ40dEK/AENdqTyvyU2oEAAAABABnjZqQr8ARV5omRNKzfTBAAAAE0GaO0moQWyZTAh3//6plgAAlYEAAAAQQZ5ZRRUsL/8AMlEtz9cSLwAAABABnnh0Qr8AQ12pPK/JTagRAAAAEAGeempCvwBFXmiZE0rN9MAAAAATQZp/SahBbJlMCHf//qmWAACVgQAAABBBnp1FFSwv/wAyUS3P1xIvAAAAEAGevHRCvwBDXak8r8lNqBAAAAAQAZ6+akK/AEVeaJkTSs30wAAAABNBmqNJqEFsmUwId//+qZYAAJWBAAAAEEGewUUVLC//ADJRLc/XEi8AAAAQAZ7gdEK/AENdqTyvyU2oEQAAABABnuJqQr8ARV5omRNKzfTAAAAAE0Ga50moQWyZTAh3//6plgAAlYEAAAAQQZ8FRRUsL/8AMlEtz9cSLwAAABABnyR0Qr8AQ12pPK/JTagRAAAAEAGfJmpCvwBFXmiZE0rN9MEAAAATQZsrSahBbJlMCHf//qmWAACVgAAAABBBn0lFFSwv/wAyUS3P1xIvAAAAEAGfaHRCvwBDXak8r8lNqBEAAAAQAZ9qakK/AEVeaJkTSs30wAAAABNBm29JqEFsmUwId//+qZYAAJWAAAAAEEGfjUUVLC//ADJRLc/XEi8AAAAQAZ+sdEK/AENdqTyvyU2oEQAAABABn65qQr8ARV5omRNKzfTBAAAAGUGbs0moQWyZTAh3//6plgAqnvq++OKZE40AAAAQQZ/RRRUsL/8AMkq8b2CReAAAAA4Bn/B0Qr8ARXcd55xbHwAAABABn/JqQr8AQ2WQw+gJBx6YAAAAG0Gb90moQWyZTAh3//6plgAqYTpH+AgD+/sTjQAAABBBnhVFFSwv/wAySrxvYJF5AAAADwGeNHRCvwAtcYQGSXL/gAAAABABnjZqQr8ARV5omRNKzfTBAAAAE0GaO0moQWyZTAh3//6plgAAlYEAAAAQQZ5ZRRUsL/8AMlEtz9cSLwAAABABnnh0Qr8AQ12pPK/JTagRAAAAEAGeempCvwBFXmiZE0rN9MAAAAASQZp/SahBbJlMCG///qeEAAEnAAAAEEGenUUVLC//ADJRLc/XEi8AAAAQAZ68dEK/AENdqTyvyU2oEAAAABABnr5qQr8ARV5omRNKzfTAAAAAGUGao0moQWyZTAhv//6nhABUfdT91vju9jUAAAAQQZ7BRRUsL/8AMkq8b2CReAAAAA4BnuB0Qr8ARXcd55xbHwAAABABnuJqQr8AQ2WQw+gJBx6YAAAAGUGa50moQWyZTAhn//6eEAFG9qxHX39L/aEAAAAQQZ8FRRUsL/8AMkq8b2CReQAAAA8BnyR0Qr8ARYQB0JyXrsEAAAAQAZ8makK/AEVeaJkTSs30wQAAABtBmylLqEIQWyRGCCgH8gH9h4BRMK/+OEAAEXAAAAAkAZ9IakK/Aq9j7UHE3arDSSblqoYHLLW6ywhWMCHIWHXACddgAAAMcG1vb3YAAABsbXZoZAAAAAAAAAAAAAAAAAAAA+gAAB+QAAEAAAEAAAAAAAAAAAAAAAABAAAAAAAAAAAAAAAAAAAAAQAAAAAAAAAAAAAAAAAAQAAAAAAAAAAAAAAAAAAAAAAAAAAAAAAAAAAAAAAAAAIAAAuadHJhawAAAFx0a2hkAAAAAwAAAAAAAAAAAAAAAQAAAAAAAB+QAAAAAAAAAAAAAAAAAAAAAAABAAAAAAAAAAAAAAAAAAAAAQAAAAAAAAAAAAAAAAAAQAAAAAEQAAABEAAAAAAAJGVkdHMAAAAcZWxzdAAAAAAAAAABAAAfkAAABAAAAQAAAAALEm1kaWEAAAAgbWRoZAAAAAAAAAAAAAAAAAAAMgAAAZQAVcQAAAAAAC1oZGxyAAAAAAAAAAB2aWRlAAAAAAAAAAAAAAAAVmlkZW9IYW5kbGVyAAAACr1taW5mAAAAFHZtaGQAAAABAAAAAAAAAAAAAAAkZGluZgAAABxkcmVmAAAAAAAAAAEAAAAMdXJsIAAAAAEAAAp9c3RibAAAAJVzdHNkAAAAAAAAAAEAAACFYXZjMQAAAAAAAAABAAAAAAAAAAAAAAAAAAAAAAEQARAASAAAAEgAAAAAAAAAAQAAAAAAAAAAAAAAAAAAAAAAAAAAAAAAAAAAAAAAAAAAABj//wAAAC9hdmNDAfQADf/hABdn9AANkZsoIhHQgAAAAwCAAAAZB4oUywEABWjr48RIAAAAGHN0dHMAAAAAAAAAAQAAAMoAAAIAAAAAFHN0c3MAAAAAAAAAAQAAAAEAAAZIY3R0cwAAAAAAAADHAAAAAgAABAAAAAABAAAGAAAAAAEAAAIAAAAAAgAABAAAAAABAAAKAAAAAAEAAAQAAAAAAQAAAAAAAAABAAACAAAAAAEAAAoAAAAAAQAABAAAAAABAAAAAAAAAAEAAAIAAAAAAQAABAAAAAABAAAGAAAAAAEAAAIAAAAAAQAACgAAAAABAAAEAAAAAAEAAAAAAAAAAQAAAgAAAAABAAAKAAAAAAEAAAQAAAAAAQAAAAAAAAABAAACAAAAAAEAAAoAAAAAAQAABAAAAAABAAAAAAAAAAEAAAIAAAAAAQAABgAAAAABAAACAAAAAAEAAAgAAAAAAgAAAgAAAAABAAAGAAAAAAEAAAIAAAAAAQAABAAAAAABAAAGAAAAAAEAAAIAAAAAAQAACgAAAAABAAAEAAAAAAEAAAAAAAAAAQAAAgAAAAABAAAEAAAAAAEAAAoAAAAAAQAABAAAAAABAAAAAAAAAAEAAAIAAAAAAQAACgAAAAABAAAEAAAAAAEAAAAAAAAAAQAAAgAAAAABAAAKAAAAAAEAAAQAAAAAAQAAAAAAAAABAAACAAAAAAEAAAQAAAAAAQAABgAAAAABAAACAAAAAAEAAAYAAAAAAQAAAgAAAAABAAAEAAAAAAEAAAoAAAAAAQAABAAAAAABAAAAAAAAAAEAAAIAAAAAAQAACgAAAAABAAAEAAAAAAEAAAAAAAAAAQAAAgAAAAABAAAKAAAAAAEAAAQAAAAAAQAAAAAAAAABAAACAAAAAAEAAAoAAAAAAQAABAAAAAABAAAAAAAAAAEAAAIAAAAAAQAACgAAAAABAAAEAAAAAAEAAAAAAAAAAQAAAgAAAAABAAAKAAAAAAEAAAQAAAAAAQAAAAAAAAABAAACAAAAAAEAAAoAAAAAAQAABAAAAAABAAAAAAAAAAEAAAIAAAAAAQAACgAAAAABAAAEAAAAAAEAAAAAAAAAAQAAAgAAAAABAAAKAAAAAAEAAAQAAAAAAQAAAAAAAAABAAACAAAAAAEAAAoAAAAAAQAABAAAAAABAAAAAAAAAAEAAAIAAAAAAQAACgAAAAABAAAEAAAAAAEAAAAAAAAAAQAAAgAAAAABAAAKAAAAAAEAAAQAAAAAAQAAAAAAAAABAAACAAAAAAEAAAoAAAAAAQAABAAAAAABAAAAAAAAAAEAAAIAAAAAAQAACgAAAAABAAAEAAAAAAEAAAAAAAAAAQAAAgAAAAABAAAKAAAAAAEAAAQAAAAAAQAAAAAAAAABAAACAAAAAAEAAAoAAAAAAQAABAAAAAABAAAAAAAAAAEAAAIAAAAAAQAABgAAAAABAAACAAAAAAEAAAoAAAAAAQAABAAAAAABAAAAAAAAAAEAAAIAAAAAAQAACgAAAAABAAAEAAAAAAEAAAAAAAAAAQAAAgAAAAABAAAKAAAAAAEAAAQAAAAAAQAAAAAAAAABAAACAAAAAAEAAAoAAAAAAQAABAAAAAABAAAAAAAAAAEAAAIAAAAAAQAACgAAAAABAAAEAAAAAAEAAAAAAAAAAQAAAgAAAAABAAAKAAAAAAEAAAQAAAAAAQAAAAAAAAABAAACAAAAAAEAAAoAAAAAAQAABAAAAAABAAAAAAAAAAEAAAIAAAAAAQAACgAAAAABAAAEAAAAAAEAAAAAAAAAAQAAAgAAAAABAAAKAAAAAAEAAAQAAAAAAQAAAAAAAAABAAACAAAAAAEAAAoAAAAAAQAABAAAAAABAAAAAAAAAAEAAAIAAAAAAQAACgAAAAABAAAEAAAAAAEAAAAAAAAAAQAAAgAAAAABAAAKAAAAAAEAAAQAAAAAAQAAAAAAAAABAAACAAAAAAEAAAoAAAAAAQAABAAAAAABAAAAAAAAAAEAAAIAAAAAAQAACgAAAAABAAAEAAAAAAEAAAAAAAAAAQAAAgAAAAABAAAKAAAAAAEAAAQAAAAAAQAAAAAAAAABAAACAAAAAAEAAAoAAAAAAQAABAAAAAABAAAAAAAAAAEAAAIAAAAAAQAACgAAAAABAAAEAAAAAAEAAAAAAAAAAQAAAgAAAAABAAAKAAAAAAEAAAQAAAAAAQAAAAAAAAABAAACAAAAAAEAAAYAAAAAAQAAAgAAAAAcc3RzYwAAAAAAAAABAAAAAQAAAMoAAAABAAADPHN0c3oAAAAAAAAAAAAAAMoAAAW7AAAAFwAAAB8AAAAUAAAAHQAAAB8AAAAZAAAAEgAAABMAAAATAAAAFgAAABAAAAATAAAAEwAAAB8AAAAiAAAAFAAAABYAAAAQAAAAFAAAABQAAAAXAAAAEAAAABQAAAAUAAAAIAAAABQAAAATAAAAEwAAACwAAAATAAAAHwAAABUAAAASAAAAIgAAABQAAAAdAAAAJAAAABQAAAAmAAAAGgAAABMAAAAUAAAAHgAAABoAAAASAAAAEwAAABMAAAAWAAAAEAAAABMAAAATAAAAFgAAABAAAAATAAAAEwAAAB0AAAAiAAAAFAAAACAAAAATAAAAHQAAACMAAAAYAAAAFAAAABQAAAAjAAAAGQAAABMAAAATAAAAGwAAABgAAAAUAAAAFAAAABcAAAAUAAAAFAAAABQAAAAXAAAAFAAAABQAAAAUAAAAFwAAABQAAAAUAAAAFAAAABcAAAAUAAAAFAAAABQAAAAXAAAAFAAAABQAAAAUAAAAFwAAABQAAAAUAAAAFAAAABcAAAAUAAAAFAAAABQAAAAXAAAAFAAAABQAAAAUAAAAIAAAABQAAAAUAAAAEwAAABcAAAAQAAAAFAAAABMAAAAXAAAAEAAAABQAAAATAAAAFwAAABAAAAAUAAAAEwAAABcAAAAQAAAAFAAAABMAAAAhAAAAFAAAABYAAAAXAAAAFAAAABQAAAAXAAAAFAAAABQAAAAUAAAAFwAAABQAAAAUAAAAFAAAABcAAAAUAAAAFAAAABQAAAAXAAAAFAAAABQAAAAUAAAAFwAAABQAAAAUAAAAFAAAABcAAAAUAAAAFAAAABQAAAAXAAAAFAAAABQAAAAUAAAAFwAAABQAAAAUAAAAFAAAABcAAAAUAAAAFAAAABQAAAAXAAAAFAAAABQAAAAUAAAAFwAAABQAAAAUAAAAFAAAAB0AAAAUAAAAEgAAABQAAAAfAAAAFAAAABMAAAAUAAAAFwAAABQAAAAUAAAAFAAAABYAAAAUAAAAFAAAABQAAAAdAAAAFAAAABIAAAAUAAAAHQAAABQAAAATAAAAFAAAAB8AAAAoAAAAFHN0Y28AAAAAAAAAAQAAADAAAABidWR0YQAAAFptZXRhAAAAAAAAACFoZGxyAAAAAAAAAABtZGlyYXBwbAAAAAAAAAAAAAAAAC1pbHN0AAAAJal0b28AAAAdZGF0YQAAAAEAAAAATGF2ZjU4LjIwLjEwMA==\" type=\"video/mp4\" />\n",
       "             </video>"
      ],
      "text/plain": [
       "<IPython.core.display.HTML object>"
      ]
     },
     "execution_count": 145,
     "metadata": {},
     "output_type": "execute_result"
    }
   ],
   "source": [
    "HTML(display_videos('fc_test10.mp4'))"
   ]
  },
  {
   "cell_type": "markdown",
   "metadata": {},
   "source": [
    "The CNN performs poorly compared to the FC network. This is likely because the rat can only see a small, 5 by 5 area, and so convolving it with a kernel takes all the detail the rat could see away.\n",
    "\n",
    "An issue common to both algorithms is that they do not explore by themselves (unless constrained by the $\\epsilon$ chance to perform a random move). Typically, when the rat has eaten all the food it can see, it tends to run in circles instead of going out to explore."
   ]
  },
  {
   "cell_type": "markdown",
   "metadata": {},
   "source": [
    "***\n",
    "\n",
    "The algorithm tends to not explore the map which can be an issue. We propose two ideas in order to encourage exploration:\n",
    "1. Incorporating a decreasing $\\epsilon$-greedy exploration. You can use the method ```set_epsilon```\n",
    "2. Append via the environment a new state that describes if a cell has been visited or not\n",
    "\n",
    "***\n",
    "__Question 10__ Design a new ```train_explore``` function and environment class ```EnvironmentExploring``` to tackle the issue of exploration.\n",
    "\n"
   ]
  },
  {
   "cell_type": "code",
   "execution_count": 163,
   "metadata": {},
   "outputs": [],
   "source": [
    "def train_explore(agent,env,epoch,prefix=''):\n",
    "    # Number of won games\n",
    "    score = 0\n",
    "    loss = 0\n",
    "\n",
    "    for e in range(epoch):\n",
    "        # At each epoch, we restart to a fresh game and get the initial state\n",
    "        state = env.reset()\n",
    "        # This assumes that the games will terminate\n",
    "        game_over = False\n",
    "\n",
    "        win = 0\n",
    "        lose = 0\n",
    "\n",
    "        while not game_over:\n",
    "            # The agent performs an action\n",
    "            action = agent.act(state)\n",
    "            # Apply an action to the environment, get the next state, the reward\n",
    "            # and if the games end\n",
    "            prev_state = state\n",
    "            state, reward, game_over = env.act(action, train=True)\n",
    "\n",
    "            # Update the counters\n",
    "            if reward > 0:\n",
    "                win = win + reward\n",
    "            if reward < 0:\n",
    "                lose = lose -reward\n",
    "\n",
    "            # Apply the reinforcement strategy\n",
    "            loss = agent.reinforce(prev_state, state,  action, reward, game_over)\n",
    "            agent.set_epsilon(max(1/env.t,0.1)) #This is the line I changed. The decrease rate is heuristic, but there are \n",
    "            #methods to set the decrease rate as a function of the Temporal Difference between two subsequent states.\n",
    "        # Save as a mp4\n",
    "        if e % 10 == 0:\n",
    "            env.draw(prefix+str(e))\n",
    "\n",
    "        # Update stats\n",
    "        score += win-lose\n",
    "\n",
    "        print(\"Epoch {:03d}/{:03d} | Loss {:.4f} | Win/lose count {}/{} ({})\"\n",
    "              .format(e, epoch, loss, win, lose, win-lose))\n",
    "        agent.save(name_weights=prefix+'model.h5',name_model=prefix+'model.json')\n",
    "    \n",
    "    \n",
    "    pass\n",
    "        \n",
    "class EnvironmentExploring(object):\n",
    "    def __init__(self, grid_size=10, max_time=500, temperature=0.1):\n",
    "        grid_size = grid_size+4\n",
    "        self.grid_size = grid_size\n",
    "        self.max_time = max_time\n",
    "        self.temperature = temperature\n",
    "\n",
    "        #board on which one plays\n",
    "        self.board = np.zeros((grid_size,grid_size))\n",
    "        self.position = np.zeros((grid_size,grid_size))\n",
    "        self.malus_position = np.zeros((grid_size,grid_size)) #Adding our third layer\n",
    "        # coordinate of the cat\n",
    "        self.x = 0\n",
    "        self.y = 1\n",
    "\n",
    "        # self time\n",
    "        self.t = 0\n",
    "\n",
    "        self.scale=16\n",
    "\n",
    "        self.to_draw = np.zeros((max_time+2, grid_size*self.scale, grid_size*self.scale, 3))\n",
    "\n",
    "\n",
    "    def draw(self,e):\n",
    "        skvideo.io.vwrite(str(e) + '.mp4', self.to_draw)\n",
    "        \n",
    "    def get_frame(self,t):\n",
    "        b = np.zeros((self.grid_size,self.grid_size,3))+128\n",
    "        b[self.board>0,0] = 256\n",
    "        b[self.board < 0, 2] = 256\n",
    "        b[self.x,self.y,:]=256\n",
    "        b[-2:,:,:]=0\n",
    "        b[:,-2:,:]=0\n",
    "        b[:2,:,:]=0\n",
    "        b[:,:2,:]=0\n",
    "        \n",
    "        b =  cv2.resize(b, None, fx=self.scale, fy=self.scale, interpolation=cv2.INTER_NEAREST)\n",
    "\n",
    "        self.to_draw[t,:,:,:]=b\n",
    "\n",
    "\n",
    "    def act(self, action,train=False):\n",
    "        \"\"\"This function returns the new state, reward and decides if the\n",
    "        game ends.\"\"\"\n",
    "\n",
    "        self.get_frame(int(self.t))\n",
    "\n",
    "        self.position = np.zeros((self.grid_size, self.grid_size))\n",
    "\n",
    "        self.position[0:2,:]= -1\n",
    "        self.position[:,0:2] = -1\n",
    "        self.position[-2:, :] = -1\n",
    "        self.position[-2:, :] = -1\n",
    "\n",
    "        self.position[self.x, self.y] = 1\n",
    "        if action == 0:\n",
    "            if self.x == self.grid_size-3:\n",
    "                self.x = self.x-1\n",
    "            else:\n",
    "                self.x = self.x + 1\n",
    "        elif action == 1:\n",
    "            if self.x == 2:\n",
    "                self.x = self.x+1\n",
    "            else:\n",
    "                self.x = self.x-1\n",
    "        elif action == 2:\n",
    "            if self.y == self.grid_size - 3:\n",
    "                self.y = self.y - 1\n",
    "            else:\n",
    "                self.y = self.y + 1\n",
    "        elif action == 3:\n",
    "            if self.y == 2:\n",
    "                self.y = self.y + 1\n",
    "            else:\n",
    "                self.y = self.y - 1\n",
    "        else:\n",
    "            RuntimeError('Error: action not recognized')\n",
    "\n",
    "        self.t = self.t + 1\n",
    "        \n",
    "        \n",
    "        reward = 0\n",
    "        \n",
    "        \n",
    "        if train:\n",
    "            reward = -self.malus_position[self.x, self.y] #Setting the exploration incentive\n",
    "        self.malus_position[self.x, self.y] = 0.1\n",
    "\n",
    "        reward = reward + self.board[self.x, self.y]\n",
    "        self.board[self.x, self.y] = 0\n",
    "        \n",
    "        \n",
    "        \n",
    "        # 3 \"feature\" states instead of 2\n",
    "        state = np.concatenate((self.malus_position.reshape(self.grid_size, self.grid_size,1),\n",
    "                                        self.board.reshape(self.grid_size, self.grid_size,1),\n",
    "                                self.position.reshape(self.grid_size, self.grid_size,1)),axis=2)\n",
    "        \n",
    "        game_over = self.t > self.max_time\n",
    "        state = state[self.x-2:self.x+3,self.y-2:self.y+3,:]\n",
    "\n",
    "        return state, reward, game_over\n",
    "\n",
    "    def reset(self):\n",
    "        \"\"\"This function resets the game and returns the initial state\"\"\"\n",
    "\n",
    "        self.x = np.random.randint(3, self.grid_size-3, size=1)[0]\n",
    "        self.y = np.random.randint(3, self.grid_size-3, size=1)[0]\n",
    "\n",
    "\n",
    "        bonus = 0.5*np.random.binomial(1,self.temperature,size=self.grid_size**2)\n",
    "        bonus = bonus.reshape(self.grid_size,self.grid_size)\n",
    "\n",
    "        malus = -1.0*np.random.binomial(1,self.temperature,size=self.grid_size**2)\n",
    "        malus = malus.reshape(self.grid_size, self.grid_size)\n",
    "\n",
    "        self.to_draw = np.zeros((self.max_time+2, self.grid_size*self.scale, self.grid_size*self.scale, 3))\n",
    "\n",
    "\n",
    "        malus[bonus>0]=0\n",
    "\n",
    "        self.board = bonus + malus\n",
    "\n",
    "        self.position = np.zeros((self.grid_size, self.grid_size))\n",
    "        self.position[0:2,:]= -1\n",
    "        self.position[:,0:2] = -1\n",
    "        self.position[-2:, :] = -1\n",
    "        self.position[-2:, :] = -1\n",
    "        self.board[self.x,self.y] = 0\n",
    "        self.t = 0\n",
    "\n",
    "        state = np.concatenate((self.malus_position.reshape(self.grid_size, self.grid_size,1),\n",
    "                                self.board.reshape(self.grid_size, self.grid_size,1),\n",
    "                        self.position.reshape(self.grid_size, self.grid_size,1)),axis=2)\n",
    "        \n",
    "        state = state[self.x - 2:self.x + 3, self.y - 2:self.y + 3, :]\n",
    "        return state\n",
    "        pass\n",
    "    \n",
    "## use those samples of code:\n",
    "#In train explore:\n",
    "#state, reward, game_over = env.act(action, train=True)\n",
    "\n",
    "## In Environment exploring:\n",
    "# You will have to change n_state to 3 because you will use one more layer!\n",
    "#reward = 0\n",
    "#if train:\n",
    "#    reward = -self.malus_position[self.x, self.y]\n",
    "#self.malus_position[self.x, self.y] = 0.1\n",
    "\n",
    "#reward = reward + self.board[self.x, self.y]\n",
    "# 3 \"feature\" states instead of 2\n",
    "#state = np.concatenate((self.malus_position.reshape(self.grid_size, self.grid_size,1),\n",
    "                                #self.board.reshape(self.grid_size, self.grid_size,1),\n",
    "                        #self.position.reshape(self.grid_size, self.grid_size,1)),axis=2)"
   ]
  },
  {
   "cell_type": "code",
   "execution_count": 164,
   "metadata": {},
   "outputs": [
    {
     "name": "stdout",
     "output_type": "stream",
     "text": [
      "Epoch 000/021 | Loss 0.0019 | Win/lose count 6.0/24.800000000000104 (-18.800000000000104)\n",
      "Epoch 001/021 | Loss 0.0117 | Win/lose count 5.600000000000001/22.700000000000067 (-17.100000000000065)\n",
      "Epoch 002/021 | Loss 0.0026 | Win/lose count 6.6000000000000005/21.500000000000018 (-14.900000000000016)\n",
      "Epoch 003/021 | Loss 0.0058 | Win/lose count 5.3/18.19999999999998 (-12.89999999999998)\n",
      "Epoch 004/021 | Loss 0.0223 | Win/lose count 2.1/21.40000000000004 (-19.30000000000004)\n",
      "Epoch 005/021 | Loss 0.0020 | Win/lose count 4.6/20.700000000000024 (-16.100000000000023)\n",
      "Epoch 006/021 | Loss 0.0105 | Win/lose count 3.6999999999999997/21.800000000000047 (-18.100000000000048)\n",
      "Epoch 007/021 | Loss 0.0295 | Win/lose count 3.6/25.600000000000044 (-22.000000000000043)\n",
      "Epoch 008/021 | Loss 0.0049 | Win/lose count 10.700000000000005/19.900000000000006 (-9.200000000000001)\n",
      "Epoch 009/021 | Loss 0.0041 | Win/lose count 8.900000000000002/25.900000000000116 (-17.000000000000114)\n",
      "Epoch 010/021 | Loss 0.0029 | Win/lose count 9.600000000000003/22.400000000000027 (-12.800000000000024)\n",
      "Epoch 011/021 | Loss 0.0032 | Win/lose count 3.9999999999999996/22.000000000000036 (-18.000000000000036)\n",
      "Epoch 012/021 | Loss 0.0032 | Win/lose count 5.2/26.800000000000082 (-21.600000000000083)\n",
      "Epoch 013/021 | Loss 0.0014 | Win/lose count 3.5999999999999996/24.200000000000085 (-20.600000000000087)\n",
      "Epoch 014/021 | Loss 0.0039 | Win/lose count 6.800000000000002/20.40000000000001 (-13.600000000000009)\n",
      "Epoch 015/021 | Loss 0.0022 | Win/lose count 8.000000000000002/20.10000000000002 (-12.100000000000017)\n",
      "Epoch 016/021 | Loss 0.0132 | Win/lose count 4.8/22.900000000000045 (-18.100000000000044)\n",
      "Epoch 017/021 | Loss 0.0012 | Win/lose count 9.500000000000002/22.30000000000005 (-12.800000000000049)\n",
      "Epoch 018/021 | Loss 0.0003 | Win/lose count 13.200000000000006/18.800000000000004 (-5.599999999999998)\n",
      "Epoch 019/021 | Loss 0.0000 | Win/lose count 8.000000000000002/22.100000000000033 (-14.100000000000032)\n",
      "Epoch 020/021 | Loss 0.0000 | Win/lose count 10.400000000000004/21.500000000000025 (-11.100000000000021)\n"
     ]
    },
    {
     "data": {
      "text/html": [
       "<video alt=\"test\" controls>\n",
       "                <source src=\"data:video/mp4;base64,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\" type=\"video/mp4\" />\n",
       "             </video>"
      ],
      "text/plain": [
       "<IPython.core.display.HTML object>"
      ]
     },
     "execution_count": 164,
     "metadata": {},
     "output_type": "execute_result"
    }
   ],
   "source": [
    "# Training\n",
    "env = EnvironmentExploring(grid_size=size, max_time=T, temperature=0.3)\n",
    "agent = DQN_CNN(size, lr=.1, epsilon = 0.1, memory_size=2000, batch_size = 16,n_state=3)\n",
    "train_explore(agent, env, epochs_train, prefix='cnn_train_explore')\n",
    "HTML(display_videos('cnn_train_explore20.mp4'))"
   ]
  },
  {
   "cell_type": "code",
   "execution_count": 166,
   "metadata": {},
   "outputs": [
    {
     "data": {
      "text/html": [
       "<video alt=\"test\" controls>\n",
       "                <source src=\"data:video/mp4;base64,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\" type=\"video/mp4\" />\n",
       "             </video>"
      ],
      "text/plain": [
       "<IPython.core.display.HTML object>"
      ]
     },
     "execution_count": 166,
     "metadata": {},
     "output_type": "execute_result"
    }
   ],
   "source": [
    "HTML(display_videos('cnn_train_explore20.mp4'))"
   ]
  },
  {
   "cell_type": "code",
   "execution_count": 165,
   "metadata": {},
   "outputs": [
    {
     "name": "stdout",
     "output_type": "stream",
     "text": [
      "Win/lose count 11.5/2.0. Average score (9.5)\n",
      "Win/lose count 10.0/4.0. Average score (7.75)\n",
      "Win/lose count 11.0/2.0. Average score (8.166666666666666)\n",
      "Win/lose count 7.0/2.0. Average score (7.375)\n",
      "Win/lose count 4.0/2.0. Average score (6.3)\n",
      "Win/lose count 9.0/1.0. Average score (6.583333333333333)\n",
      "Win/lose count 2.5/2.0. Average score (5.714285714285714)\n",
      "Win/lose count 2.5/2.0. Average score (5.0625)\n",
      "Win/lose count 2.5/2.0. Average score (4.555555555555555)\n",
      "Win/lose count 7.5/2.0. Average score (4.65)\n",
      "Win/lose count 2.0/1.0. Average score (4.318181818181818)\n",
      "Win/lose count 3.5/3.0. Average score (4.0)\n",
      "Win/lose count 10.0/1.0. Average score (4.384615384615385)\n",
      "Win/lose count 10.5/3.0. Average score (4.607142857142857)\n",
      "Win/lose count 2.5/1.0. Average score (4.4)\n",
      "Win/lose count 5.0/1.0. Average score (4.375)\n",
      "Win/lose count 13.5/4.0. Average score (4.676470588235294)\n",
      "Win/lose count 7.5/2.0. Average score (4.722222222222222)\n",
      "Win/lose count 8.5/1.0. Average score (4.868421052631579)\n",
      "Win/lose count 11.5/4.0. Average score (5.0)\n",
      "Win/lose count 7.5/4.0. Average score (4.928571428571429)\n",
      "Final score: 4.928571428571429\n"
     ]
    },
    {
     "data": {
      "text/html": [
       "<video alt=\"test\" controls>\n",
       "                <source src=\"data:video/mp4;base64,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\" type=\"video/mp4\" />\n",
       "             </video>"
      ],
      "text/plain": [
       "<IPython.core.display.HTML object>"
      ]
     },
     "execution_count": 165,
     "metadata": {},
     "output_type": "execute_result"
    }
   ],
   "source": [
    "# Evaluation\n",
    "test(agent,env,epochs_test,prefix='cnn_test_explore')\n",
    "HTML(display_videos('cnn_test_explore10.mp4'))"
   ]
  },
  {
   "cell_type": "markdown",
   "metadata": {},
   "source": [
    "***\n",
    "***\n",
    "__BONUS question__ Use the expert DQN from the previous question to generate some winning games. Train a model that mimicks its behavior. Compare the performances."
   ]
  },
  {
   "cell_type": "markdown",
   "metadata": {},
   "source": []
  },
  {
   "cell_type": "markdown",
   "metadata": {},
   "source": [
    "***"
   ]
  }
 ],
 "metadata": {
  "kernelspec": {
   "display_name": "Python 3",
   "language": "python",
   "name": "python3"
  },
  "language_info": {
   "codemirror_mode": {
    "name": "ipython",
    "version": 3
   },
   "file_extension": ".py",
   "mimetype": "text/x-python",
   "name": "python",
   "nbconvert_exporter": "python",
   "pygments_lexer": "ipython3",
   "version": "3.6.4"
  }
 },
 "nbformat": 4,
 "nbformat_minor": 2
}
